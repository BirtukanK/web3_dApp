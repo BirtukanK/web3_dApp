{
 "cells": [
  {
   "cell_type": "code",
   "execution_count": 1,
   "metadata": {},
   "outputs": [
    {
     "name": "stdout",
     "output_type": "stream",
     "text": [
      "My address: PO4BQKLHDVMUN3JCFJWOPZCZI66DRNGG7FVZECQMJEQXHBLMVNKPBQNN2M\n",
      "My private key: miR0yt+CxQnSpBkcOu6Mc87eCvk3rUTrcMdSw3lnh3B7uBgpZx1ZRu0iKmzn5FlHvDi0xvlrkgoMSSFzhWyrVA==\n",
      "My passphrase: nation spatial topple combine mention list charge boost drum rib shoe transfer rural dress save pudding hammer senior glove cry vicious supply loud about space\n"
     ]
    }
   ],
   "source": [
    "from algosdk import account, mnemonic\n",
    "private_key, address = account.generate_account()\n",
    "print(\"My address: {}\".format(address))\n",
    "print(\"My private key: {}\".format(private_key))\n",
    "print(\"My passphrase: {}\".format(mnemonic.from_private_key(private_key  )))"
   ]
  },
  {
   "cell_type": "code",
   "execution_count": 2,
   "metadata": {},
   "outputs": [
    {
     "name": "stdout",
     "output_type": "stream",
     "text": [
      "Private key from mnemonic: w2kAWNczywb5JBmctNqa4JuSEh9bPQ2iXvADRYIv3c2fCSZ4FotXKIHfZ0r6REMKc3LoC/Vng2lKYOoh8uAWAQ==\n",
      "Public key from mnemonic: T4ESM6AWRNLSRAO7M5FPURCDBJZXF2AL6VTYG2KKMDVCD4XACYASZFD3LM\n"
     ]
    }
   ],
   "source": [
    "print(f\"Private key from mnemonic: {mnemonic.to_private_key('debris accuse project dice nose double chief bomb near hello estate safe cement seven suggest diary double kind wealth expand afraid episode humble absorb token')}\")\n",
    "print(f\"Public key from mnemonic: {mnemonic.to_public_key('debris accuse project dice nose double chief bomb near hello estate safe cement seven suggest diary double kind wealth expand afraid episode humble absorb token')}\")"
   ]
  },
  {
   "cell_type": "code",
   "execution_count": 3,
   "metadata": {},
   "outputs": [],
   "source": [
    "mnemo_2 = 'load cube churn artefact mom away inherit place melody silk rocket giggle scorpion table seat define wise kitten pepper broken used grape flush about phrase'\n",
    "private_2 = mnemonic.to_private_key(mnemo_2)\n",
    "public_2 = mnemonic.to_public_key(mnemo_2)"
   ]
  },
  {
   "cell_type": "code",
   "execution_count": 4,
   "metadata": {},
   "outputs": [
    {
     "data": {
      "text/plain": [
       "'UKDQAZLNRCHHPQ2NEM4HQFUTKEUZN27Y5YTN7AEZOZ3GZPX46MEGEFFZRY'"
      ]
     },
     "execution_count": 4,
     "metadata": {},
     "output_type": "execute_result"
    }
   ],
   "source": [
    "private_2\n",
    "public_2\n"
   ]
  },
  {
   "cell_type": "code",
   "execution_count": 5,
   "metadata": {},
   "outputs": [],
   "source": [
    "from algosdk.v2client import algod\n",
    "algod_address = \"http://localhost:4001\"\n",
    "algod_token = \"aaaaaaaaaaaaaaaaaaaaaaaaaaaaaaaaaaaaaaaaaaaaaaaaaaaaaaaaaaaaaaaa\"\n",
    "algod_client = algod.AlgodClient(algod_token, algod_address)"
   ]
  },
  {
   "cell_type": "code",
   "execution_count": 6,
   "metadata": {},
   "outputs": [
    {
     "name": "stdout",
     "output_type": "stream",
     "text": [
      "Account balance: 0 microAlgos\n",
      "\n"
     ]
    }
   ],
   "source": [
    "account_info = algod_client.account_info(address)\n",
    "print(\"Account balance: {} microAlgos\".format(account_info.get('amount')) + \"\\n\")\n"
   ]
  },
  {
   "cell_type": "code",
   "execution_count": 7,
   "metadata": {},
   "outputs": [
    {
     "name": "stdout",
     "output_type": "stream",
     "text": [
      "Account balance: 1000155000034986 microAlgos\n",
      "\n"
     ]
    }
   ],
   "source": [
    "account_info = algod_client.account_info(public_2)\n",
    "print(\"Account balance: {} microAlgos\".format(account_info.get('amount')) + \"\\n\")"
   ]
  },
  {
   "cell_type": "code",
   "execution_count": 8,
   "metadata": {},
   "outputs": [],
   "source": [
    "# build transaction\n",
    "from algosdk.future import transaction\n",
    "from algosdk import constants\n",
    "\n",
    "\n",
    "params = algod_client.suggested_params()\n",
    "# comment out the next two (2) lines to use suggested fees\n",
    "params.flat_fee = True\n",
    "params.fee = constants.MIN_TXN_FEE \n",
    "receiver = address\n",
    "note = \"Hello World\".encode()\n",
    "amount = 1000000\n",
    "unsigned_txn = transaction.PaymentTxn(public_2, params, receiver, amount, None, note)\n"
   ]
  },
  {
   "cell_type": "code",
   "execution_count": 9,
   "metadata": {},
   "outputs": [],
   "source": [
    "signed_txn = unsigned_txn.sign(private_2)"
   ]
  },
  {
   "cell_type": "code",
   "execution_count": 10,
   "metadata": {},
   "outputs": [],
   "source": [
    "import json\n",
    "import base64\n",
    "\n",
    "txid = algod_client.send_transaction(signed_txn)\n"
   ]
  },
  {
   "cell_type": "code",
   "execution_count": 11,
   "metadata": {},
   "outputs": [
    {
     "name": "stdout",
     "output_type": "stream",
     "text": [
      "Successfully sent transaction with txID: MD2BIOTMLGKKHZA6ESUVNHPIIPIQVRRVETINRIFOQQA5RVZVTCTA\n",
      "Transaction information: {\n",
      "    \"confirmed-round\": 6221,\n",
      "    \"pool-error\": \"\",\n",
      "    \"sender-rewards\": 7001035986,\n",
      "    \"txn\": {\n",
      "        \"sig\": \"vrzrGkL7sPg5LDRKxctsgmoqhOcgz75VHENiTzY8RSVjrgyWWNKeJpjmipxz5eUPUzu65adMdn/mHnYgWuSnDg==\",\n",
      "        \"txn\": {\n",
      "            \"amt\": 1000000,\n",
      "            \"fee\": 1000,\n",
      "            \"fv\": 6216,\n",
      "            \"gen\": \"sandnet-v1\",\n",
      "            \"gh\": \"7Z2Cfrcw7i/3kEUvFmbku/WdlFHZX54VrTCNlBGcIqM=\",\n",
      "            \"lv\": 7216,\n",
      "            \"note\": \"SGVsbG8gV29ybGQ=\",\n",
      "            \"rcv\": \"PO4BQKLHDVMUN3JCFJWOPZCZI66DRNGG7FVZECQMJEQXHBLMVNKPBQNN2M\",\n",
      "            \"snd\": \"UKDQAZLNRCHHPQ2NEM4HQFUTKEUZN27Y5YTN7AEZOZ3GZPX46MEGEFFZRY\",\n",
      "            \"type\": \"pay\"\n",
      "        }\n",
      "    }\n",
      "}\n",
      "Decoded note: Hello World\n",
      "Starting Account balance: 1000155000034986 microAlgos\n",
      "Amount transfered: 1000000 microAlgos\n",
      "Fee: 1000 microAlgos\n",
      "Final Account balance: 1000154999033986 microAlgos\n",
      "\n"
     ]
    }
   ],
   "source": [
    "print(\"Successfully sent transaction with txID: {}\".format(txid))\n",
    "try:\n",
    "    confirmed_txn = transaction.wait_for_confirmation(algod_client, txid, 4)  \n",
    "except Exception as err:\n",
    "    print(err)\n",
    "    #return\n",
    "\n",
    "print(\"Transaction information: {}\".format(\n",
    "json.dumps(confirmed_txn, indent=4)))\n",
    "print(\"Decoded note: {}\".format(base64.b64decode(\n",
    "confirmed_txn[\"txn\"][\"txn\"][\"note\"]).decode()))\n",
    "print(\"Starting Account balance: {} microAlgos\".format(account_info.get('amount')) )\n",
    "print(\"Amount transfered: {} microAlgos\".format(amount) )    \n",
    "print(\"Fee: {} microAlgos\".format(params.fee) ) \n",
    "\n",
    "\n",
    "account_info = algod_client.account_info(public_2)\n",
    "print(\"Final Account balance: {} microAlgos\".format(account_info.get('amount')) + \"\\n\")\n",
    "\n"
   ]
  },
  {
   "cell_type": "code",
   "execution_count": 12,
   "metadata": {},
   "outputs": [
    {
     "name": "stdout",
     "output_type": "stream",
     "text": [
      "Account balance: 1000000 microAlgos\n",
      "\n"
     ]
    }
   ],
   "source": [
    "account_info = algod_client.account_info(address)\n",
    "print(\"Account balance: {} microAlgos\".format(account_info.get('amount')) + \"\\n\")"
   ]
  },
  {
   "cell_type": "markdown",
   "metadata": {},
   "source": [
    "Creating Algorand standard Asset (ASA)"
   ]
  },
  {
   "cell_type": "code",
   "execution_count": 13,
   "metadata": {},
   "outputs": [],
   "source": [
    "from algosdk.future.transaction import AssetConfigTxn, AssetTransferTxn, AssetFreezeTxn"
   ]
  },
  {
   "cell_type": "code",
   "execution_count": 17,
   "metadata": {},
   "outputs": [
    {
     "name": "stdout",
     "output_type": "stream",
     "text": [
      "Signed transaction with txID: 27QZWBOMG37GMR5LG3YHYKSXLNDSWYRTZF65ZB3WOROQVDX5RUWQ\n",
      "name 'wait_for_confirmation' is not defined\n",
      "Transaction information: {\n",
      "    \"confirmed-round\": 6221,\n",
      "    \"pool-error\": \"\",\n",
      "    \"sender-rewards\": 7001035986,\n",
      "    \"txn\": {\n",
      "        \"sig\": \"vrzrGkL7sPg5LDRKxctsgmoqhOcgz75VHENiTzY8RSVjrgyWWNKeJpjmipxz5eUPUzu65adMdn/mHnYgWuSnDg==\",\n",
      "        \"txn\": {\n",
      "            \"amt\": 1000000,\n",
      "            \"fee\": 1000,\n",
      "            \"fv\": 6216,\n",
      "            \"gen\": \"sandnet-v1\",\n",
      "            \"gh\": \"7Z2Cfrcw7i/3kEUvFmbku/WdlFHZX54VrTCNlBGcIqM=\",\n",
      "            \"lv\": 7216,\n",
      "            \"note\": \"SGVsbG8gV29ybGQ=\",\n",
      "            \"rcv\": \"PO4BQKLHDVMUN3JCFJWOPZCZI66DRNGG7FVZECQMJEQXHBLMVNKPBQNN2M\",\n",
      "            \"snd\": \"UKDQAZLNRCHHPQ2NEM4HQFUTKEUZN27Y5YTN7AEZOZ3GZPX46MEGEFFZRY\",\n",
      "            \"type\": \"pay\"\n",
      "        }\n",
      "    }\n",
      "}\n"
     ]
    }
   ],
   "source": [
    "# CREATE ASSET\n",
    "# Get network params for transactions before every transaction.\n",
    "params = algod_client.suggested_params()\n",
    "# comment these two lines if you want to use suggested params\n",
    "# params.fee = 1000\n",
    "# params.flat_fee = True\n",
    "# Account 1 creates an asset called latinum and\n",
    "# sets Account 2 as the manager, reserve, freeze, and clawback address.\n",
    "# Asset Creation transaction\n",
    "txn = AssetConfigTxn(\n",
    "    sender=public_2,\n",
    "    sp=params,\n",
    "    total=1,\n",
    "    default_frozen=False,\n",
    "    unit_name=\"LATINUM\",\n",
    "    asset_name=\"latinum\",\n",
    "    manager=public_2,\n",
    "    reserve=public_2,\n",
    "    freeze=public_2,\n",
    "    clawback=public_2,\n",
    "    url=\"https://path/to/my/asset/details\", \n",
    "    decimals=0)\n",
    "# Sign with secret key of creator\n",
    "stxn = txn.sign(private_2)\n",
    "# Send the transaction to the network and retrieve the txid.\n",
    "try:\n",
    "    txid = algod_client.send_transaction(stxn)\n",
    "    print(\"Signed transaction with txID: {}\".format(txid))\n",
    "    # Wait for the transaction to be confirmed\n",
    "    confirmed_txn = wait_for_confirmation(algod_client, txid, 4)  \n",
    "    print(\"TXID: \", txid)\n",
    "    print(\"Result confirmed in round: {}\".format(confirmed_txn['confirmed-round']))   \n",
    "except Exception as err:\n",
    "    print(err)\n",
    "# Retrieve the asset ID of the newly created asset by first\n",
    "# ensuring that the creation transaction was confirmed,\n",
    "# then grabbing the asset id from the transaction.\n",
    "print(\"Transaction information: {}\".format(\n",
    "    json.dumps(confirmed_txn, indent=4)))\n",
    "# print(\"Decoded note: {}\".format(base64.b64decode(\n",
    "#     confirmed_txn[\"txn\"][\"txn\"][\"note\"]).decode()))\n",
    "\n"
   ]
  }
 ],
 "metadata": {
  "kernelspec": {
   "display_name": "Python 3.8.10 64-bit",
   "language": "python",
   "name": "python3"
  },
  "language_info": {
   "codemirror_mode": {
    "name": "ipython",
    "version": 3
   },
   "file_extension": ".py",
   "mimetype": "text/x-python",
   "name": "python",
   "nbconvert_exporter": "python",
   "pygments_lexer": "ipython3",
   "version": "3.8.10"
  },
  "orig_nbformat": 4,
  "vscode": {
   "interpreter": {
    "hash": "916dbcbb3f70747c44a77c7bcd40155683ae19c65e1c03b4aa3499c5328201f1"
   }
  }
 },
 "nbformat": 4,
 "nbformat_minor": 2
}
